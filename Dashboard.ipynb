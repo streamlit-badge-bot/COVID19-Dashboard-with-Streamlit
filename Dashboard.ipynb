{
 "cells": [
  {
   "cell_type": "code",
   "execution_count": 1,
   "metadata": {},
   "outputs": [],
   "source": [
    "import pandas as pd\n",
    "import json\n",
    "import requests\n",
    "import matplotlib.pyplot as plt\n",
    "from specific_func import downloading_json_file, split_json_to_dfs\n",
    "import numpy as np"
   ]
  },
  {
   "cell_type": "code",
   "execution_count": 2,
   "metadata": {},
   "outputs": [],
   "source": [
    "covid_json = \"https://covid.ourworldindata.org/data/owid-covid-data.json\"\n",
    "response = downloading_json_file(covid_json)"
   ]
  },
  {
   "cell_type": "code",
   "execution_count": 3,
   "metadata": {},
   "outputs": [],
   "source": [
    "country_information, country_key, combined_df = split_json_to_dfs(response)"
   ]
  },
  {
   "cell_type": "code",
   "execution_count": 4,
   "metadata": {},
   "outputs": [],
   "source": [
    "drop_option = country_key['location'].to_list()"
   ]
  },
  {
   "cell_type": "code",
   "execution_count": 5,
   "metadata": {},
   "outputs": [
    {
     "name": "stdout",
     "output_type": "stream",
     "text": [
      "Data last updated: 2020-11-11\n"
     ]
    }
   ],
   "source": [
    "today = combined_df['date'].max()\n",
    "print(\"Data last updated: {}\".format(str(today.date())))"
   ]
  },
  {
   "cell_type": "code",
   "execution_count": 6,
   "metadata": {},
   "outputs": [
    {
     "data": {
      "image/png": "[encoded data removed]",
      "text/plain": [
       "<Figure size 432x288 with 1 Axes>"
      ]
     },
     "metadata": {
      "needs_background": "light"
     },
     "output_type": "display_data"
    }
   ],
   "source": [
    "country_select = \"Canada\"\n",
    "combined_df[combined_df.location == country_select].plot('date', 'new_cases')\n",
    "plt.show()"
   ]
  },
  {
   "cell_type": "code",
   "execution_count": 7,
   "metadata": {},
   "outputs": [
    {
     "data": {
      "text/html": [
       "<div>\n",
       "<style scoped>\n",
       "    .dataframe tbody tr th:only-of-type {\n",
       "        vertical-align: middle;\n",
       "    }\n",
       "\n",
       "    .dataframe tbody tr th {\n",
       "        vertical-align: top;\n",
       "    }\n",
       "\n",
       "    .dataframe thead th {\n",
       "        text-align: right;\n",
       "    }\n",
       "</style>\n",
       "<table border=\"1\" class=\"dataframe\">\n",
       "  <thead>\n",
       "    <tr style=\"text-align: right;\">\n",
       "      <th></th>\n",
       "      <th>date</th>\n",
       "      <th>location</th>\n",
       "      <th>new_cases</th>\n",
       "      <th>new_deaths</th>\n",
       "      <th>new_cases_per_million</th>\n",
       "      <th>new_deaths_per_million</th>\n",
       "      <th>stringency_index</th>\n",
       "      <th>new_cases_smoothed</th>\n",
       "      <th>new_deaths_smoothed</th>\n",
       "      <th>new_cases_smoothed_per_million</th>\n",
       "      <th>...</th>\n",
       "      <th>new_tests_per_thousand</th>\n",
       "      <th>icu_patients</th>\n",
       "      <th>icu_patients_per_million</th>\n",
       "      <th>hosp_patients</th>\n",
       "      <th>hosp_patients_per_million</th>\n",
       "      <th>weekly_hosp_admissions</th>\n",
       "      <th>weekly_hosp_admissions_per_million</th>\n",
       "      <th>weekly_icu_admissions</th>\n",
       "      <th>weekly_icu_admissions_per_million</th>\n",
       "      <th>continent</th>\n",
       "    </tr>\n",
       "  </thead>\n",
       "  <tbody>\n",
       "    <tr>\n",
       "      <th>5570</th>\n",
       "      <td>2020-05-20</td>\n",
       "      <td>Benin</td>\n",
       "      <td>-209.0</td>\n",
       "      <td>0.0</td>\n",
       "      <td>-17.240</td>\n",
       "      <td>0.000</td>\n",
       "      <td>57.41</td>\n",
       "      <td>-28.143</td>\n",
       "      <td>0.000</td>\n",
       "      <td>-2.321</td>\n",
       "      <td>...</td>\n",
       "      <td>NaN</td>\n",
       "      <td>NaN</td>\n",
       "      <td>NaN</td>\n",
       "      <td>NaN</td>\n",
       "      <td>NaN</td>\n",
       "      <td>NaN</td>\n",
       "      <td>NaN</td>\n",
       "      <td>NaN</td>\n",
       "      <td>NaN</td>\n",
       "      <td>Africa</td>\n",
       "    </tr>\n",
       "    <tr>\n",
       "      <th>15093</th>\n",
       "      <td>2020-05-07</td>\n",
       "      <td>Ecuador</td>\n",
       "      <td>-2461.0</td>\n",
       "      <td>49.0</td>\n",
       "      <td>-139.488</td>\n",
       "      <td>2.777</td>\n",
       "      <td>86.11</td>\n",
       "      <td>677.857</td>\n",
       "      <td>105.000</td>\n",
       "      <td>38.421</td>\n",
       "      <td>...</td>\n",
       "      <td>0.085</td>\n",
       "      <td>NaN</td>\n",
       "      <td>NaN</td>\n",
       "      <td>NaN</td>\n",
       "      <td>NaN</td>\n",
       "      <td>NaN</td>\n",
       "      <td>NaN</td>\n",
       "      <td>NaN</td>\n",
       "      <td>NaN</td>\n",
       "      <td>South America</td>\n",
       "    </tr>\n",
       "    <tr>\n",
       "      <th>15095</th>\n",
       "      <td>2020-05-09</td>\n",
       "      <td>Ecuador</td>\n",
       "      <td>-1480.0</td>\n",
       "      <td>50.0</td>\n",
       "      <td>-83.886</td>\n",
       "      <td>2.834</td>\n",
       "      <td>86.11</td>\n",
       "      <td>354.571</td>\n",
       "      <td>91.571</td>\n",
       "      <td>20.097</td>\n",
       "      <td>...</td>\n",
       "      <td>0.049</td>\n",
       "      <td>NaN</td>\n",
       "      <td>NaN</td>\n",
       "      <td>NaN</td>\n",
       "      <td>NaN</td>\n",
       "      <td>NaN</td>\n",
       "      <td>NaN</td>\n",
       "      <td>NaN</td>\n",
       "      <td>NaN</td>\n",
       "      <td>South America</td>\n",
       "    </tr>\n",
       "    <tr>\n",
       "      <th>15098</th>\n",
       "      <td>2020-05-12</td>\n",
       "      <td>Ecuador</td>\n",
       "      <td>-50.0</td>\n",
       "      <td>18.0</td>\n",
       "      <td>-2.834</td>\n",
       "      <td>1.020</td>\n",
       "      <td>86.11</td>\n",
       "      <td>-338.857</td>\n",
       "      <td>82.286</td>\n",
       "      <td>-19.206</td>\n",
       "      <td>...</td>\n",
       "      <td>0.128</td>\n",
       "      <td>NaN</td>\n",
       "      <td>NaN</td>\n",
       "      <td>NaN</td>\n",
       "      <td>NaN</td>\n",
       "      <td>NaN</td>\n",
       "      <td>NaN</td>\n",
       "      <td>NaN</td>\n",
       "      <td>NaN</td>\n",
       "      <td>South America</td>\n",
       "    </tr>\n",
       "    <tr>\n",
       "      <th>15216</th>\n",
       "      <td>2020-09-07</td>\n",
       "      <td>Ecuador</td>\n",
       "      <td>-8261.0</td>\n",
       "      <td>3800.0</td>\n",
       "      <td>-468.229</td>\n",
       "      <td>215.382</td>\n",
       "      <td>70.83</td>\n",
       "      <td>-552.000</td>\n",
       "      <td>567.000</td>\n",
       "      <td>-31.287</td>\n",
       "      <td>...</td>\n",
       "      <td>0.042</td>\n",
       "      <td>NaN</td>\n",
       "      <td>NaN</td>\n",
       "      <td>NaN</td>\n",
       "      <td>NaN</td>\n",
       "      <td>NaN</td>\n",
       "      <td>NaN</td>\n",
       "      <td>NaN</td>\n",
       "      <td>NaN</td>\n",
       "      <td>South America</td>\n",
       "    </tr>\n",
       "  </tbody>\n",
       "</table>\n",
       "<p>5 rows × 33 columns</p>\n",
       "</div>"
      ],
      "text/plain": [
       "            date location  new_cases  new_deaths  new_cases_per_million  \\\n",
       "5570  2020-05-20    Benin     -209.0         0.0                -17.240   \n",
       "15093 2020-05-07  Ecuador    -2461.0        49.0               -139.488   \n",
       "15095 2020-05-09  Ecuador    -1480.0        50.0                -83.886   \n",
       "15098 2020-05-12  Ecuador      -50.0        18.0                 -2.834   \n",
       "15216 2020-09-07  Ecuador    -8261.0      3800.0               -468.229   \n",
       "\n",
       "       new_deaths_per_million  stringency_index  new_cases_smoothed  \\\n",
       "5570                    0.000             57.41             -28.143   \n",
       "15093                   2.777             86.11             677.857   \n",
       "15095                   2.834             86.11             354.571   \n",
       "15098                   1.020             86.11            -338.857   \n",
       "15216                 215.382             70.83            -552.000   \n",
       "\n",
       "       new_deaths_smoothed  new_cases_smoothed_per_million  ...  \\\n",
       "5570                 0.000                          -2.321  ...   \n",
       "15093              105.000                          38.421  ...   \n",
       "15095               91.571                          20.097  ...   \n",
       "15098               82.286                         -19.206  ...   \n",
       "15216              567.000                         -31.287  ...   \n",
       "\n",
       "       new_tests_per_thousand  icu_patients  icu_patients_per_million  \\\n",
       "5570                      NaN           NaN                       NaN   \n",
       "15093                   0.085           NaN                       NaN   \n",
       "15095                   0.049           NaN                       NaN   \n",
       "15098                   0.128           NaN                       NaN   \n",
       "15216                   0.042           NaN                       NaN   \n",
       "\n",
       "       hosp_patients  hosp_patients_per_million  weekly_hosp_admissions  \\\n",
       "5570             NaN                        NaN                     NaN   \n",
       "15093            NaN                        NaN                     NaN   \n",
       "15095            NaN                        NaN                     NaN   \n",
       "15098            NaN                        NaN                     NaN   \n",
       "15216            NaN                        NaN                     NaN   \n",
       "\n",
       "       weekly_hosp_admissions_per_million weekly_icu_admissions  \\\n",
       "5570                                  NaN                   NaN   \n",
       "15093                                 NaN                   NaN   \n",
       "15095                                 NaN                   NaN   \n",
       "15098                                 NaN                   NaN   \n",
       "15216                                 NaN                   NaN   \n",
       "\n",
       "       weekly_icu_admissions_per_million      continent  \n",
       "5570                                 NaN         Africa  \n",
       "15093                                NaN  South America  \n",
       "15095                                NaN  South America  \n",
       "15098                                NaN  South America  \n",
       "15216                                NaN  South America  \n",
       "\n",
       "[5 rows x 33 columns]"
      ]
     },
     "execution_count": 7,
     "metadata": {},
     "output_type": "execute_result"
    }
   ],
   "source": [
    "combined_df[combined_df['new_cases'] < 0].head()"
   ]
  },
  {
   "cell_type": "code",
   "execution_count": 8,
   "metadata": {},
   "outputs": [],
   "source": [
    "combined_df['new_cases'] = np.where(combined_df['new_cases'] <0, None, combined_df['new_cases'])"
   ]
  },
  {
   "cell_type": "code",
   "execution_count": 9,
   "metadata": {},
   "outputs": [
    {
     "data": {
      "text/html": [
       "<div>\n",
       "<style scoped>\n",
       "    .dataframe tbody tr th:only-of-type {\n",
       "        vertical-align: middle;\n",
       "    }\n",
       "\n",
       "    .dataframe tbody tr th {\n",
       "        vertical-align: top;\n",
       "    }\n",
       "\n",
       "    .dataframe thead th {\n",
       "        text-align: right;\n",
       "    }\n",
       "</style>\n",
       "<table border=\"1\" class=\"dataframe\">\n",
       "  <thead>\n",
       "    <tr style=\"text-align: right;\">\n",
       "      <th></th>\n",
       "      <th>date</th>\n",
       "      <th>location</th>\n",
       "      <th>new_cases</th>\n",
       "      <th>new_deaths</th>\n",
       "      <th>new_cases_per_million</th>\n",
       "      <th>new_deaths_per_million</th>\n",
       "      <th>stringency_index</th>\n",
       "      <th>new_cases_smoothed</th>\n",
       "      <th>new_deaths_smoothed</th>\n",
       "      <th>new_cases_smoothed_per_million</th>\n",
       "      <th>...</th>\n",
       "      <th>new_tests_per_thousand</th>\n",
       "      <th>icu_patients</th>\n",
       "      <th>icu_patients_per_million</th>\n",
       "      <th>hosp_patients</th>\n",
       "      <th>hosp_patients_per_million</th>\n",
       "      <th>weekly_hosp_admissions</th>\n",
       "      <th>weekly_hosp_admissions_per_million</th>\n",
       "      <th>weekly_icu_admissions</th>\n",
       "      <th>weekly_icu_admissions_per_million</th>\n",
       "      <th>continent</th>\n",
       "    </tr>\n",
       "  </thead>\n",
       "  <tbody>\n",
       "  </tbody>\n",
       "</table>\n",
       "<p>0 rows × 33 columns</p>\n",
       "</div>"
      ],
      "text/plain": [
       "Empty DataFrame\n",
       "Columns: [date, location, new_cases, new_deaths, new_cases_per_million, new_deaths_per_million, stringency_index, new_cases_smoothed, new_deaths_smoothed, new_cases_smoothed_per_million, new_deaths_smoothed_per_million, total_cases, total_cases_per_million, total_deaths, total_deaths_per_million, total_tests, total_tests_per_thousand, tests_units, new_tests_smoothed, new_tests_smoothed_per_thousand, tests_per_case, positive_rate, new_tests, new_tests_per_thousand, icu_patients, icu_patients_per_million, hosp_patients, hosp_patients_per_million, weekly_hosp_admissions, weekly_hosp_admissions_per_million, weekly_icu_admissions, weekly_icu_admissions_per_million, continent]\n",
       "Index: []\n",
       "\n",
       "[0 rows x 33 columns]"
      ]
     },
     "execution_count": 9,
     "metadata": {},
     "output_type": "execute_result"
    }
   ],
   "source": [
    "combined_df[combined_df['new_cases'] < 0].head()"
   ]
  },
  {
   "cell_type": "code",
   "execution_count": 10,
   "metadata": {},
   "outputs": [
    {
     "data": {
      "text/plain": [
       "nan"
      ]
     },
     "execution_count": 10,
     "metadata": {},
     "output_type": "execute_result"
    }
   ],
   "source": [
    "np.nan"
   ]
  },
  {
   "cell_type": "code",
   "execution_count": 11,
   "metadata": {},
   "outputs": [
    {
     "data": {
      "text/plain": [
       "float"
      ]
     },
     "execution_count": 11,
     "metadata": {},
     "output_type": "execute_result"
    }
   ],
   "source": [
    "type(np.nan)"
   ]
  },
  {
   "cell_type": "code",
   "execution_count": null,
   "metadata": {},
   "outputs": [],
   "source": []
  }
 ],
 "metadata": {
  "kernelspec": {
   "display_name": "Python 3",
   "language": "python",
   "name": "python3"
  },
  "language_info": {
   "codemirror_mode": {
    "name": "ipython",
    "version": 3
   },
   "file_extension": ".py",
   "mimetype": "text/x-python",
   "name": "python",
   "nbconvert_exporter": "python",
   "pygments_lexer": "ipython3",
   "version": "3.8.3"
  },
  "toc": {
   "base_numbering": 1,
   "nav_menu": {},
   "number_sections": true,
   "sideBar": true,
   "skip_h1_title": false,
   "title_cell": "Table of Contents",
   "title_sidebar": "Contents",
   "toc_cell": false,
   "toc_position": {},
   "toc_section_display": true,
   "toc_window_display": false
  }
 },
 "nbformat": 4,
 "nbformat_minor": 4
}
